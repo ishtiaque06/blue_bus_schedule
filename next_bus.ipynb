{
 "cells": [
  {
   "cell_type": "code",
   "execution_count": 3,
   "metadata": {
    "collapsed": false
   },
   "outputs": [],
   "source": [
    "\"\"\"\n",
    "Takes a csv filename and returns data as a list of dictionaries\n",
    "\"\"\"\n",
    "def get_data(filename):\n",
    "    f = open(filename, \"r\")\n",
    "    line = f.readline() #reads line in the file\n",
    "    location = line.strip().split(\",\")  # gets the location, either leaving or arriving HC or BMC\n",
    "    \n",
    "    data = [] \n",
    "\n",
    "    for line in f:\n",
    "        bus_times = line.strip().split(\",\") #gives a list of time from each row\n",
    "        \n",
    "        \"\"\"\n",
    "        Checks to ensure that data fields are uniform\n",
    "        \"\"\"\n",
    "        if (len(bus_times) == len(location)): #ensures that the data fields are uniform\n",
    "            row = {}\n",
    "            for exact_location in range(len(bus_times)):\n",
    "                row[location[exact_location]] = bus_times[exact_location]\n",
    "                \n",
    "            data.append(row)\n",
    "        \n",
    "        else:\n",
    "            row = {}\n",
    "\n",
    "            for exact_location in range(len(bus_times)):\n",
    "                row[location[exact_location]] = bus_times[exact_location]\n",
    "            \n",
    "            data.append(row)\n",
    "            \n",
    "            \n",
    "            \n",
    "    f.close()\n",
    "    \n",
    "    return data"
   ]
  },
  {
   "cell_type": "code",
   "execution_count": 2,
   "metadata": {
    "collapsed": false
   },
   "outputs": [],
   "source": [
    "def parser():\n",
    "    initial = open('bluebus_schedules.csv', 'r')\n",
    "    csv_list = []\n",
    "    for line in initial:\n",
    "        if ',' not in line:\n",
    "            filename = line[:-1] + '.csv'\n",
    "            new_file = open(filename, 'w')\n",
    "            new_file.close()\n",
    "            csv_list.append(filename)\n",
    "        else:\n",
    "            new_file = open(filename, 'a')\n",
    "            new_file.write(line[:-1] + \"\\n\")\n",
    "            new_file.close()\n",
    "    initial.seek(0)\n",
    "\n",
    "    initial.close()\n",
    "    \n",
    "    return csv_list"
   ]
  },
  {
   "cell_type": "code",
   "execution_count": 9,
   "metadata": {
    "collapsed": false
   },
   "outputs": [],
   "source": [
    "import datetime\n",
    "import calendar, timestring\n",
    "\"\"\"\n",
    "Function gives the time for the next bus, prompted the destination, assuming it is either from Haverford \n",
    "or BrynMawr to either locations\n",
    "\"\"\"\n",
    "def next_bus():\n",
    "    destination = raw_input(\"Where are you going? Bryn Mawr or Haverford:  \")\n",
    "    csv_list = parser() #makes list of csvs parsed from the BlueBus Website\n",
    "     \n",
    "    today = (datetime.datetime.now()).strftime('%A')  #gives the name of the day   \n",
    "    print today\n",
    "    \n",
    "    for csv in csv_list:\n",
    "        if today in csv:\n",
    "            relevant_csv = csv\n",
    "    \n",
    "    \"\"\"\n",
    "    Get relevant bus times according to the current time\n",
    "    \"\"\"\n",
    "    time_dict_list = get_data(relevant_csv)  #a list of dictionaries with relevant time for the current day\n",
    "    for time_dict in  time_dict_list:\n",
    "        time_now =  datetime.datetime.now()  #time now\n",
    "        time_in_2hrs = datetime.datetime.now() + datetime.timedelta(hours=2.75)      \n",
    "        \n",
    "        if destination in [\"Haverford\", \"HC\",\"haverford\"]:\n",
    "            bus_time = time_dict['LeaveBrynMawr']\n",
    "            bus_time = str(timestring.Date(bus_time)) #formats to today's time as a string\n",
    "            bus_time = datetime.datetime.strptime(bus_time, '%Y-%m-%d %H:%M:%S') #converts the time string into a datetime object for comparison\n",
    "            \n",
    "            if time_now <= bus_time and time_in_2hrs >= bus_time:\n",
    "                print time_dict['LeaveBrynMawr'] + \" -> \" +str(time_dict['ArriveHaverford'])\n",
    "            \n",
    "        elif destination in [\"BrynMawr\", \"BMC\", \"brynmawr\", \"bryn mawr\"]:\n",
    "            bus_time = time_dict['LeaveHaverford']\n",
    "            bus_time = str(timestring.Date(bus_time)) \n",
    "            bus_time = datetime.datetime.strptime(bus_time, '%Y-%m-%d %H:%M:%S') #converts the time string into a datetime object for comparison\n",
    "            \n",
    "            if time_now <= bus_time and time_in_2hrs >= bus_time:\n",
    "                print time_dict['LeaveHaverford'] + \" -> \" +str(time_dict['ArriveHaverford'])\n",
    "                \n",
    "        else:\n",
    "            \n",
    "            print \"Error: \\nPlease input correct destination\"\n",
    "            break"
   ]
  }
 ],
 "metadata": {
  "kernelspec": {
   "display_name": "Python 2",
   "language": "python",
   "name": "python2"
  },
  "language_info": {
   "codemirror_mode": {
    "name": "ipython",
    "version": 2
   },
   "file_extension": ".py",
   "mimetype": "text/x-python",
   "name": "python",
   "nbconvert_exporter": "python",
   "pygments_lexer": "ipython2",
   "version": "2.7.13"
  }
 },
 "nbformat": 4,
 "nbformat_minor": 2
}
