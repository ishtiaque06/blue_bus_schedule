{
 "cells": [
  {
   "cell_type": "code",
   "execution_count": 17,
   "metadata": {
    "collapsed": false
   },
   "outputs": [
    {
     "name": "stdout",
     "output_type": "stream",
     "text": [
      "Next Bus to Haverford\n",
      "4:05PM -> 4:15PM\n",
      "4:20PM -> 4:30PM\n",
      "5:10PM -> 5:20PM\n",
      "\n",
      "Next Bus to BrynMawr\n",
      "4:05PM -> 4:15PM\n",
      "4:20PM -> 4:30PM\n",
      "4:35PM -> 4:45PM\n",
      "5:30PM -> 5:40PM\n",
      "\n"
     ]
    }
   ],
   "source": [
    "import bus_to_HC\n",
    "import bus_to_BMC\n",
    "\"\"\"\n",
    "Function returns the next buses to Haverford and BryMawr\n",
    "\"\"\"\n",
    "\n",
    "def next_bus():\n",
    "    to_HC = str(bus_to_HC.bus_to_HC())\n",
    "    to_BMC = str(bus_to_BMC.bus_to_BMC())\n",
    "    \n",
    "    print \"Next Bus to Haverford\\n\" + to_HC + \"\\n\" + \"Next Bus to BrynMawr\\n\" + to_BMC\n",
    "\n",
    "next_bus()"
   ]
  }
 ],
 "metadata": {
  "kernelspec": {
   "display_name": "Python 2",
   "language": "python",
   "name": "python2"
  },
  "language_info": {
   "codemirror_mode": {
    "name": "ipython",
    "version": 2
   },
   "file_extension": ".py",
   "mimetype": "text/x-python",
   "name": "python",
   "nbconvert_exporter": "python",
   "pygments_lexer": "ipython2",
   "version": "2.7.13"
  }
 },
 "nbformat": 4,
 "nbformat_minor": 2
}
