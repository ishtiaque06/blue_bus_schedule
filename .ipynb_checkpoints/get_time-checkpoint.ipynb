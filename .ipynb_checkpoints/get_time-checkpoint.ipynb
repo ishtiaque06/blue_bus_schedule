{
 "cells": [
  {
   "cell_type": "code",
   "execution_count": 4,
   "metadata": {
    "collapsed": false
   },
   "outputs": [],
   "source": [
    "#import libraries\n",
    "import urllib2\n",
    "from bs4 import BeautifulSoup\n",
    "\n",
    "\"\"\"\n",
    "Function parses through the Blue_Bus website and retrives Bus times in a CSV file\n",
    "\"\"\"\n",
    "def get_time():\n",
    "    #specify the url\n",
    "    bus_page = 'http://www.brynmawr.edu/transportation/bico.shtml'\n",
    "\n",
    "    #query website and return the html\n",
    "\n",
    "    page = urllib2.urlopen(bus_page)\n",
    "\n",
    "    #parse the html using BeautifulSoup as a string\n",
    "    soup = BeautifulSoup(page, 'lxml') \n",
    "    \n",
    "    tables= soup.find_all('table') #finds all the tables with bus times\n",
    "    \n",
    "    f = open('bus_times.csv','w')\n",
    "    \n",
    "    for table in tables:\n",
    "        for row in table.find_all(\"tr\"):\n",
    "            row = row.get_text(\", \", strip=True) # removes white spaces and tabs between rows in text\n",
    "\n",
    "            row = row.encode('ascii', 'ignore') # removes symbols in Unicode and keeps strings\n",
    "            row =  (\"\".join(row.split()))  #removes all whitespaces before, after and inbetween strings\n",
    "            f.write(row+\"\\n\")\n",
    "            \n",
    "    f.close()"
   ]
  }
 ],
 "metadata": {
  "kernelspec": {
   "display_name": "Python 2",
   "language": "python",
   "name": "python2"
  },
  "language_info": {
   "codemirror_mode": {
    "name": "ipython",
    "version": 2
   },
   "file_extension": ".py",
   "mimetype": "text/x-python",
   "name": "python",
   "nbconvert_exporter": "python",
   "pygments_lexer": "ipython2",
   "version": "2.7.13"
  }
 },
 "nbformat": 4,
 "nbformat_minor": 2
}
